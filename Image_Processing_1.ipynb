{
  "nbformat": 4,
  "nbformat_minor": 0,
  "metadata": {
    "colab": {
      "provenance": [],
      "gpuType": "T4",
      "include_colab_link": true
    },
    "kernelspec": {
      "name": "python3",
      "display_name": "Python 3"
    },
    "language_info": {
      "name": "python"
    },
    "accelerator": "GPU"
  },
  "cells": [
    {
      "cell_type": "markdown",
      "metadata": {
        "id": "view-in-github",
        "colab_type": "text"
      },
      "source": [
        "<a href=\"https://colab.research.google.com/github/MaStEr156/Blood-Bank-Management-System/blob/main/Image_Processing_1.ipynb\" target=\"_parent\"><img src=\"https://colab.research.google.com/assets/colab-badge.svg\" alt=\"Open In Colab\"/></a>"
      ]
    },
    {
      "cell_type": "code",
      "execution_count": 24,
      "metadata": {
        "colab": {
          "base_uri": "https://localhost:8080/"
        },
        "id": "r5Yn8N5BwDpw",
        "outputId": "f74f64d1-6739-45a6-ea6c-a5927ae14238"
      },
      "outputs": [
        {
          "output_type": "stream",
          "name": "stdout",
          "text": [
            "Requirement already satisfied: tensorflow_datasets in /usr/local/lib/python3.10/dist-packages (4.9.4)\n",
            "Requirement already satisfied: absl-py in /usr/local/lib/python3.10/dist-packages (from tensorflow_datasets) (1.4.0)\n",
            "Requirement already satisfied: click in /usr/local/lib/python3.10/dist-packages (from tensorflow_datasets) (8.1.7)\n",
            "Requirement already satisfied: dm-tree in /usr/local/lib/python3.10/dist-packages (from tensorflow_datasets) (0.1.8)\n",
            "Requirement already satisfied: etils[enp,epath,etree]>=0.9.0 in /usr/local/lib/python3.10/dist-packages (from tensorflow_datasets) (1.7.0)\n",
            "Requirement already satisfied: numpy in /usr/local/lib/python3.10/dist-packages (from tensorflow_datasets) (1.25.2)\n",
            "Requirement already satisfied: promise in /usr/local/lib/python3.10/dist-packages (from tensorflow_datasets) (2.3)\n",
            "Requirement already satisfied: protobuf>=3.20 in /usr/local/lib/python3.10/dist-packages (from tensorflow_datasets) (3.20.3)\n",
            "Requirement already satisfied: psutil in /usr/local/lib/python3.10/dist-packages (from tensorflow_datasets) (5.9.5)\n",
            "Requirement already satisfied: requests>=2.19.0 in /usr/local/lib/python3.10/dist-packages (from tensorflow_datasets) (2.31.0)\n",
            "Requirement already satisfied: tensorflow-metadata in /usr/local/lib/python3.10/dist-packages (from tensorflow_datasets) (1.15.0)\n",
            "Requirement already satisfied: termcolor in /usr/local/lib/python3.10/dist-packages (from tensorflow_datasets) (2.4.0)\n",
            "Requirement already satisfied: toml in /usr/local/lib/python3.10/dist-packages (from tensorflow_datasets) (0.10.2)\n",
            "Requirement already satisfied: tqdm in /usr/local/lib/python3.10/dist-packages (from tensorflow_datasets) (4.66.4)\n",
            "Requirement already satisfied: wrapt in /usr/local/lib/python3.10/dist-packages (from tensorflow_datasets) (1.14.1)\n",
            "Requirement already satisfied: array-record>=0.5.0 in /usr/local/lib/python3.10/dist-packages (from tensorflow_datasets) (0.5.1)\n",
            "Requirement already satisfied: fsspec in /usr/local/lib/python3.10/dist-packages (from etils[enp,epath,etree]>=0.9.0->tensorflow_datasets) (2023.6.0)\n",
            "Requirement already satisfied: importlib_resources in /usr/local/lib/python3.10/dist-packages (from etils[enp,epath,etree]>=0.9.0->tensorflow_datasets) (6.4.0)\n",
            "Requirement already satisfied: typing_extensions in /usr/local/lib/python3.10/dist-packages (from etils[enp,epath,etree]>=0.9.0->tensorflow_datasets) (4.11.0)\n",
            "Requirement already satisfied: zipp in /usr/local/lib/python3.10/dist-packages (from etils[enp,epath,etree]>=0.9.0->tensorflow_datasets) (3.18.1)\n",
            "Requirement already satisfied: charset-normalizer<4,>=2 in /usr/local/lib/python3.10/dist-packages (from requests>=2.19.0->tensorflow_datasets) (3.3.2)\n",
            "Requirement already satisfied: idna<4,>=2.5 in /usr/local/lib/python3.10/dist-packages (from requests>=2.19.0->tensorflow_datasets) (3.7)\n",
            "Requirement already satisfied: urllib3<3,>=1.21.1 in /usr/local/lib/python3.10/dist-packages (from requests>=2.19.0->tensorflow_datasets) (2.0.7)\n",
            "Requirement already satisfied: certifi>=2017.4.17 in /usr/local/lib/python3.10/dist-packages (from requests>=2.19.0->tensorflow_datasets) (2024.2.2)\n",
            "Requirement already satisfied: six in /usr/local/lib/python3.10/dist-packages (from promise->tensorflow_datasets) (1.16.0)\n"
          ]
        }
      ],
      "source": [
        "!pip install tensorflow_datasets"
      ]
    },
    {
      "cell_type": "code",
      "source": [
        "import tensorflow as tf\n",
        "import tensorflow_datasets as tfds\n",
        "import os\n",
        "\n",
        "import pandas as pd\n",
        "import numpy as np\n",
        "import matplotlib.pyplot as plt"
      ],
      "metadata": {
        "id": "Mkua25KSwOAV"
      },
      "execution_count": 25,
      "outputs": []
    },
    {
      "cell_type": "code",
      "source": [
        "dataset, info = tfds.load('cats_vs_dogs', with_info=True, as_supervised=True)"
      ],
      "metadata": {
        "id": "1KdcVHT0wSSr"
      },
      "execution_count": 26,
      "outputs": []
    },
    {
      "cell_type": "code",
      "source": [
        "class_names = info.features['label'].names\n",
        "class_names"
      ],
      "metadata": {
        "colab": {
          "base_uri": "https://localhost:8080/"
        },
        "id": "Kk1hOAtHwyGT",
        "outputId": "502c05a5-ddcb-4e2f-e51b-2f0ea57f8594"
      },
      "execution_count": 27,
      "outputs": [
        {
          "output_type": "execute_result",
          "data": {
            "text/plain": [
              "['cat', 'dog']"
            ]
          },
          "metadata": {},
          "execution_count": 27
        }
      ]
    },
    {
      "cell_type": "markdown",
      "source": [
        "**Info**"
      ],
      "metadata": {
        "id": "fhhBCIUSw1yd"
      }
    },
    {
      "cell_type": "code",
      "source": [
        "for i, example in enumerate(dataset['train']):\n",
        "  # example = (image, label)\n",
        "  image, label = example\n",
        "  save_dir = './cats_vs_dogs/train/{}'.format(class_names[label])\n",
        "  os.makedirs(save_dir, exist_ok=True)\n",
        "\n",
        "  filename = save_dir + \"/\" + \"{}_{}.jpg\".format(class_names[label], i)\n",
        "  tf.keras.preprocessing.image.save_img(filename, image.numpy())\n",
        "  # print(filename)\n",
        "  # break"
      ],
      "metadata": {
        "id": "9vdU3o9rw5By"
      },
      "execution_count": 28,
      "outputs": []
    },
    {
      "cell_type": "code",
      "source": [
        "from tensorflow.keras.preprocessing.image import ImageDataGenerator\n",
        "from tensorflow.keras.layers import Conv2D, MaxPooling2D, Flatten, Dense, Dropout, BatchNormalization\n",
        "from tensorflow.keras.models import Sequential"
      ],
      "metadata": {
        "id": "8M7CNYtPxLf5"
      },
      "execution_count": 29,
      "outputs": []
    },
    {
      "cell_type": "code",
      "source": [
        "datagen = ImageDataGenerator(rescale=1/255, validation_split=0.2, rotation_range=10,\n",
        "                              width_shift_range=0.1, height_shift_range=0.1,\n",
        "                             shear_range=0.1, zoom_range=0.10, horizontal_flip=True)\n",
        "\n",
        "train_generator = datagen.flow_from_directory('/content/cats_vs_dogs/train',\n",
        "                                              target_size = (150, 150),\n",
        "                                              batch_size=64,\n",
        "                                              class_mode='binary',\n",
        "                                              subset='training')\n",
        "\n",
        "validation_generator = datagen.flow_from_directory('/content/cats_vs_dogs/train',\n",
        "                                              target_size = (150, 150),\n",
        "                                              batch_size=64,\n",
        "                                              class_mode='binary',\n",
        "                                              subset='validation')"
      ],
      "metadata": {
        "colab": {
          "base_uri": "https://localhost:8080/"
        },
        "id": "YabuC8ylxj1g",
        "outputId": "8a4bfa0a-04e0-44d2-e2c1-fb88f4fe2244"
      },
      "execution_count": 30,
      "outputs": [
        {
          "output_type": "stream",
          "name": "stdout",
          "text": [
            "Found 18611 images belonging to 2 classes.\n",
            "Found 4651 images belonging to 2 classes.\n"
          ]
        }
      ]
    },
    {
      "cell_type": "markdown",
      "source": [
        "**build CNN Model**"
      ],
      "metadata": {
        "id": "CaXmObmOxpKd"
      }
    },
    {
      "cell_type": "code",
      "source": [
        "from keras.backend import batch_normalization\n",
        "model = Sequential()\n",
        "\n",
        "# 1st layer CNN\n",
        "model.add(Conv2D(32, kernel_size=3, activation='relu', input_shape=(150, 150, 3)))\n",
        "model.add(MaxPooling2D(2))\n",
        "# model.add(BatchNormalization())\n",
        "# model.add(Dropout(0.2))\n",
        "\n",
        "# 2nd layer CNN\n",
        "model.add(Conv2D(64, kernel_size=3, activation='relu'))\n",
        "model.add(MaxPooling2D(2))\n",
        "# model.add(BatchNormalization())\n",
        "# model.add(Dropout(0.2))\n",
        "\n",
        "# 3rd Layer\n",
        "model.add(Conv2D(128, kernel_size=3, activation='relu'))\n",
        "model.add(MaxPooling2D(2))\n",
        "# model.add(BatchNormalization())\n",
        "# model.add(Dropout(0.2))\n",
        "\n",
        "model.add(Flatten())\n",
        "model.add(Dropout(0.5))\n",
        "model.add(Dense(512, activation='relu'))\n",
        "model.add(Dense(1, activation='sigmoid'))"
      ],
      "metadata": {
        "id": "dwHUHmZOxr1J"
      },
      "execution_count": 31,
      "outputs": []
    },
    {
      "cell_type": "code",
      "source": [
        "model.summary()"
      ],
      "metadata": {
        "colab": {
          "base_uri": "https://localhost:8080/"
        },
        "id": "OFaV2vUTxvcI",
        "outputId": "dbc073d1-e59c-4b40-bc03-d998dcf001b8"
      },
      "execution_count": 32,
      "outputs": [
        {
          "output_type": "stream",
          "name": "stdout",
          "text": [
            "Model: \"sequential_1\"\n",
            "_________________________________________________________________\n",
            " Layer (type)                Output Shape              Param #   \n",
            "=================================================================\n",
            " conv2d_3 (Conv2D)           (None, 148, 148, 32)      896       \n",
            "                                                                 \n",
            " max_pooling2d_3 (MaxPoolin  (None, 74, 74, 32)        0         \n",
            " g2D)                                                            \n",
            "                                                                 \n",
            " conv2d_4 (Conv2D)           (None, 72, 72, 64)        18496     \n",
            "                                                                 \n",
            " max_pooling2d_4 (MaxPoolin  (None, 36, 36, 64)        0         \n",
            " g2D)                                                            \n",
            "                                                                 \n",
            " conv2d_5 (Conv2D)           (None, 34, 34, 128)       73856     \n",
            "                                                                 \n",
            " max_pooling2d_5 (MaxPoolin  (None, 17, 17, 128)       0         \n",
            " g2D)                                                            \n",
            "                                                                 \n",
            " flatten_1 (Flatten)         (None, 36992)             0         \n",
            "                                                                 \n",
            " dropout_1 (Dropout)         (None, 36992)             0         \n",
            "                                                                 \n",
            " dense_2 (Dense)             (None, 512)               18940416  \n",
            "                                                                 \n",
            " dense_3 (Dense)             (None, 1)                 513       \n",
            "                                                                 \n",
            "=================================================================\n",
            "Total params: 19034177 (72.61 MB)\n",
            "Trainable params: 19034177 (72.61 MB)\n",
            "Non-trainable params: 0 (0.00 Byte)\n",
            "_________________________________________________________________\n"
          ]
        }
      ]
    },
    {
      "cell_type": "code",
      "source": [
        "model.compile(loss='binary_crossentropy', optimizer='adam', metrics=['accuracy'])\n",
        "\n",
        "history = model.fit(train_generator, epochs=10, validation_data=validation_generator)"
      ],
      "metadata": {
        "colab": {
          "base_uri": "https://localhost:8080/"
        },
        "id": "FvmSj0mtx6Ua",
        "outputId": "aa0a4e32-13e5-4452-f055-3511c417f639"
      },
      "execution_count": 33,
      "outputs": [
        {
          "output_type": "stream",
          "name": "stdout",
          "text": [
            "Epoch 1/10\n",
            "291/291 [==============================] - 179s 598ms/step - loss: 0.6692 - accuracy: 0.5920 - val_loss: 0.6075 - val_accuracy: 0.6680\n",
            "Epoch 2/10\n",
            "291/291 [==============================] - 161s 552ms/step - loss: 0.5645 - accuracy: 0.7076 - val_loss: 0.5194 - val_accuracy: 0.7448\n",
            "Epoch 3/10\n",
            "291/291 [==============================] - 160s 549ms/step - loss: 0.5151 - accuracy: 0.7457 - val_loss: 0.4911 - val_accuracy: 0.7538\n",
            "Epoch 4/10\n",
            "291/291 [==============================] - 161s 555ms/step - loss: 0.4769 - accuracy: 0.7714 - val_loss: 0.4508 - val_accuracy: 0.7955\n",
            "Epoch 5/10\n",
            "291/291 [==============================] - 165s 568ms/step - loss: 0.4457 - accuracy: 0.7913 - val_loss: 0.4397 - val_accuracy: 0.8009\n",
            "Epoch 6/10\n",
            "291/291 [==============================] - 167s 574ms/step - loss: 0.4233 - accuracy: 0.8021 - val_loss: 0.4038 - val_accuracy: 0.8205\n",
            "Epoch 7/10\n",
            "291/291 [==============================] - 168s 578ms/step - loss: 0.4058 - accuracy: 0.8157 - val_loss: 0.4040 - val_accuracy: 0.8140\n",
            "Epoch 8/10\n",
            "291/291 [==============================] - 167s 573ms/step - loss: 0.3932 - accuracy: 0.8219 - val_loss: 0.3783 - val_accuracy: 0.8375\n",
            "Epoch 9/10\n",
            "291/291 [==============================] - 171s 588ms/step - loss: 0.3888 - accuracy: 0.8263 - val_loss: 0.4072 - val_accuracy: 0.8108\n",
            "Epoch 10/10\n",
            "291/291 [==============================] - 160s 549ms/step - loss: 0.3690 - accuracy: 0.8351 - val_loss: 0.3466 - val_accuracy: 0.8514\n"
          ]
        }
      ]
    },
    {
      "cell_type": "code",
      "source": [
        "history.history\n",
        "\n",
        "plt.plot(history.history['accuracy'], label='Training')\n",
        "plt.plot(history.history['val_accuracy'], label='Validation')\n",
        "plt.legend(['Training', 'Validation'])"
      ],
      "metadata": {
        "colab": {
          "base_uri": "https://localhost:8080/",
          "height": 447
        },
        "id": "KzG1ATwh_Ifm",
        "outputId": "6bb6ba8d-1a44-40f7-f077-99f2cc4fa33e"
      },
      "execution_count": 34,
      "outputs": [
        {
          "data": {
            "text/plain": [
              "<matplotlib.legend.Legend at 0x7bb2a006a530>"
            ]
          },
          "execution_count": 34,
          "metadata": {},
          "output_type": "execute_result"
        },
        {
          "output_type": "display_data",
          "data": {
            "text/plain": [
              "<Figure size 640x480 with 1 Axes>"
            ],
            "image/png": "[encoded data removed]"
          },
          "metadata": {}
        }
      ]
    },
    {
      "cell_type": "code",
      "source": [
        "# save model\n",
        "model.save('cats_vs_dogs.h5')"
      ],
      "metadata": {
        "id": "Rox44x0a_Olx"
      },
      "execution_count": 35,
      "outputs": []
    },
    {
      "cell_type": "code",
      "source": [
        "model_load = tf.keras.models.load_model('cats_vs_dogs.h5')"
      ],
      "metadata": {
        "id": "WF9Ua21S_TyU"
      },
      "execution_count": 36,
      "outputs": []
    },
    {
      "cell_type": "code",
      "source": [
        "import requests\n",
        "from PIL import Image\n",
        "from tensorflow.keras.preprocessing import image\n",
        "img_url = \"https://www.shutterstock.com/image-photo/funny-british-shorthair-cat-portrait-600nw-2097266809.jpg\"\n",
        "img = Image.open(requests.get(img_url, stream=True).raw).resize((150, 150))\n",
        "\n",
        "image_array = image.img_to_array(img)\n",
        "\n",
        "img = np.expand_dims(image_array, axis=0)\n",
        "\n",
        "img = img/255\n",
        "\n",
        "prediction = model.predict(img)\n",
        "\n",
        "TH = 0.5\n",
        "prediction = int(prediction[0][0]>TH)\n",
        "classes = {v:k for k,v in train_generator.class_indices.items()}\n",
        "classes[prediction]"
      ],
      "metadata": {
        "colab": {
          "base_uri": "https://localhost:8080/",
          "height": 53
        },
        "id": "GlhnVqaH_YGm",
        "outputId": "72681311-4bc0-45ca-aed8-a0358ec6ba14"
      },
      "execution_count": 38,
      "outputs": [
        {
          "output_type": "stream",
          "name": "stdout",
          "text": [
            "1/1 [==============================] - 0s 20ms/step\n"
          ]
        },
        {
          "output_type": "execute_result",
          "data": {
            "text/plain": [
              "'cat'"
            ],
            "application/vnd.google.colaboratory.intrinsic+json": {
              "type": "string"
            }
          },
          "metadata": {},
          "execution_count": 38
        }
      ]
    }
  ]
}